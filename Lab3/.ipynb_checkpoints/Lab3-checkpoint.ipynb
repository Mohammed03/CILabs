{
 "cells": [
  {
   "cell_type": "markdown",
   "id": "488b8266",
   "metadata": {},
   "source": [
    "# Lab Assignment: Building a Neural Network from Scratch\n",
    "\n",
    "### Objective\n",
    "This lab guides you through the implementation of a simple feedforward neural network from scratch. \n",
    "By completing this lab, you will:\n",
    "- Initialize a neural network with weights and biases.\n",
    "- Compute the weighted sum at each node.\n",
    "- Apply activation functions for node outputs.\n",
    "- Perform forward propagation to compute predictions.\n",
    "- Implement backpropagation to compute gradients.\n",
    "- Update weights using gradients to minimize the loss."
   ]
  },
  {
   "cell_type": "markdown",
   "id": "2668a14e",
   "metadata": {},
   "source": [
    "## Step 1: Initialize the Network"
   ]
  },
  {
   "cell_type": "code",
   "execution_count": 260,
   "id": "396df339",
   "metadata": {},
   "outputs": [
    {
     "name": "stdout",
     "output_type": "stream",
     "text": [
      "Mohammed Mohideen + Initialized Network: {'layer_1': {'node_1': {'weights': array([0.37, 0.95, 0.73]), 'bias': 0.6}, 'node_2': {'weights': array([0.16, 0.16, 0.06]), 'bias': 0.87}, 'node_3': {'weights': array([0.6 , 0.71, 0.02]), 'bias': 0.97}, 'node_4': {'weights': array([0.83, 0.21, 0.18]), 'bias': 0.18}}, 'layer_2': {'node_1': {'weights': array([0.3 , 0.52, 0.43, 0.29]), 'bias': 0.61}, 'node_2': {'weights': array([0.14, 0.29, 0.37, 0.46]), 'bias': 0.79}, 'node_3': {'weights': array([0.2 , 0.51, 0.59, 0.05]), 'bias': 0.61}}, 'output': {'node_1': {'weights': array([0.17, 0.07, 0.95]), 'bias': 0.97}}}\n"
     ]
    }
   ],
   "source": [
    "import numpy as np\n",
    "np.random.seed(42) # For reproducibility\n",
    "def initialize_network(input_size, hidden_layers, output_size):\n",
    "    num_nodes_previous = input_size\n",
    "    network = {}\n",
    "    \n",
    "    for layer in range(len(hidden_layers) + 1):\n",
    "        if layer == len(hidden_layers):\n",
    "            layer_name = 'output'\n",
    "            num_nodes = output_size  # Define num_nodes for the output layer\n",
    "        else:\n",
    "            layer_name = f'layer_{layer+1}'\n",
    "            num_nodes = hidden_layers[layer]\n",
    "        \n",
    "        network[layer_name] = {}\n",
    "        \n",
    "        for node in range(num_nodes):\n",
    "            node_name = f'node_{node+1}'\n",
    "            network[layer_name][node_name] = {\n",
    "                'weights': np.around(np.random.uniform(size=num_nodes_previous), decimals=2),\n",
    "                'bias': np.around(np.random.uniform(size=1), decimals=2)[0],  # Convert array to scalar\n",
    "            }\n",
    "        \n",
    "        num_nodes_previous = num_nodes  # Update for next layer\n",
    "\n",
    "    return network\n",
    "\n",
    "# Initialize a network with 3 inputs, 2 hidden layers (4 and 3 nodes), and 1 output node\n",
    "network = initialize_network(3, [4, 3], 1)\n",
    "print(\"Mohammed Mohideen + Initialized Network:\", network)\n"
   ]
  },
  {
   "cell_type": "markdown",
   "id": "3ecfdd84",
   "metadata": {},
   "source": [
    "## Step 2: Compute Weighted Sum"
   ]
  },
  {
   "cell_type": "code",
   "execution_count": 263,
   "id": "66c4ad58",
   "metadata": {},
   "outputs": [
    {
     "name": "stdout",
     "output_type": "stream",
     "text": [
      "Mohammed Mohideen + Weighted Sum: 1.048\n"
     ]
    }
   ],
   "source": [
    "def compute_weighted_sum(inputs, weights, biases):\n",
    "    # Please numpy dot to calcuate the compute weighted with linear \n",
    "    # provide your code\n",
    "    \n",
    "    return np.dot(inputs, weights) + biases\n",
    "\n",
    "inputs = np.array([0.5, 0.2, 0.1])  # Fix: Remove extra brackets for 1D array\n",
    "layer = network['layer_1']  # Fix: Access dictionary by key\n",
    "\n",
    "# Select the first node of the first layer\n",
    "node = layer['node_1']\n",
    "\n",
    "Z = compute_weighted_sum(inputs, node['weights'], node['bias'])\n",
    "print(\"Mohammed Mohideen + Weighted Sum:\", Z)"
   ]
  },
  {
   "cell_type": "markdown",
   "id": "7d82553f",
   "metadata": {},
   "source": [
    "## Step 3: Compute Node Activation"
   ]
  },
  {
   "cell_type": "code",
   "execution_count": 266,
   "id": "36b00bf0",
   "metadata": {},
   "outputs": [
    {
     "name": "stdout",
     "output_type": "stream",
     "text": [
      "Mohammed Mohideen > + Activation: 0.7403906593837889\n"
     ]
    }
   ],
   "source": [
    "def sigmoid(Z):\n",
    "#     provide your code\n",
    "    return 1.0/(1.0 + np.exp(-1*Z))\n",
    "\n",
    "def sigmoid_derivative(A):\n",
    "    # provide your code\n",
    "    return A * (1-A)\n",
    "\n",
    "# Compute activation for the weighted sum\n",
    "A = sigmoid(Z)\n",
    "print(\"Mohammed Mohideen > + Activation:\", A)"
   ]
  },
  {
   "cell_type": "markdown",
   "id": "769f9c55",
   "metadata": {},
   "source": [
    "## Step 4: Perform Forward Propagation"
   ]
  },
  {
   "cell_type": "code",
   "execution_count": 269,
   "id": "5d2e9d28",
   "metadata": {},
   "outputs": [
    {
     "name": "stdout",
     "output_type": "stream",
     "text": [
      "[array([0.5, 0.2, 0.1]), array([0.74039066, 0.7286927 , 0.80439608, 0.65813632]), array([0.85167349, 0.84623151, 0.83715521]), array([0.87753786])]\n",
      "Mohammed Mohideen + Final Output: [0.87753786]\n"
     ]
    }
   ],
   "source": [
    "def forward_propagation(inputs, network):\n",
    "    # provide your code\n",
    "    activations = [inputs]  # Start with the input layer\n",
    "    for layer in network.values():\n",
    "        z = []\n",
    "        a = []\n",
    "        for node in layer.values():\n",
    "            z_value = np.dot(activations[-1], node['weights']) + node['bias']\n",
    "            z.append(z_value)\n",
    "            a.append(sigmoid(z_value))\n",
    "        activations.append(np.array(a).flatten())\n",
    "    return activations\n",
    "\n",
    "\n",
    "# Perform forward propagation\n",
    "activations = forward_propagation(inputs, network)\n",
    "print(activations)\n",
    "print(\"Mohammed Mohideen + Final Output:\", activations[-1])"
   ]
  },
  {
   "cell_type": "markdown",
   "id": "e342f58d",
   "metadata": {},
   "source": [
    "## Step 5: Backpropagation"
   ]
  },
  {
   "cell_type": "code",
   "execution_count": 383,
   "id": "1ec4d75a",
   "metadata": {},
   "outputs": [
    {
     "name": "stdout",
     "output_type": "stream",
     "text": [
      "Mohammed Mohideen + Gradients: {'layer_1': {'node_1': {'weights': array([0.37036813, 0.95014725, 0.73007363]), 'bias': 0.6007362647293519}, 'node_2': {'weights': array([0.16087726, 0.16035091, 0.06017545]), 'bias': 0.8717545295661788}, 'node_3': {'weights': array([0.60077428, 0.71030971, 0.02015486]), 'bias': 0.9715485648537218}, 'node_4': {'weights': array([0.83025208, 0.21010083, 0.18005042]), 'bias': 0.18050415065393238}}, 'layer_2': {'node_1': {'weights': array([0.30204019, 0.52200834, 0.43221673, 0.29181351]), 'bias': 0.6127552141371477}, 'node_2': {'weights': array([0.14112245, 0.29110494, 0.37121959, 0.46099774]), 'bias': 0.7915158260176399}, 'node_3': {'weights': array([0.21006952, 0.51991222, 0.6009408 , 0.05895069]), 'bias': 0.6235986539356805}}, 'output': {'node_1': {'weights': array([0.25788075, 0.15729465, 1.03662174]), 'bias': array([1.07180592])}}}\n"
     ]
    }
   ],
   "source": [
    "def backpropagation(network, activations, y_true, learning_rate):\n",
    "    # Step 1: Compute delta for the output layer\n",
    "    delta_output = (activations[-1] - y_true) * sigmoid_derivative(activations[-1])  \n",
    "\n",
    "\n",
    "    delta = delta_output.reshape(-1, 1) \n",
    "\n",
    "    # Step 2: Iterate through layers in reverse order (output -> hidden -> input)\n",
    "    for layer_idx in reversed(range(len(network))):\n",
    "        layer_name = list(network.keys())[layer_idx]\n",
    "        current_layer = network[layer_name]\n",
    "\n",
    "        if layer_name == 'output':\n",
    "            # Use precomputed delta for the output layer\n",
    "            pass\n",
    "        else:\n",
    "            # Get the next layer's weights\n",
    "            next_layer_name = list(network.keys())[layer_idx + 1]\n",
    "            next_layer = network[next_layer_name]\n",
    "\n",
    "            # Extract weight matrix from the next layer (ensuring correct shape)\n",
    "            weight_matrix = np.array([node['weights'] for node in next_layer.values()])  # Shape (next_layer_nodes, current_layer_nodes)\n",
    "\n",
    "            # Compute delta for the current layer (ensure correct shape)\n",
    "            delta = np.dot(weight_matrix.T, delta).flatten() * sigmoid_derivative(activations[layer_idx + 1])\n",
    "        for node_idx, (node_name, node_data) in enumerate(current_layer.items()):\n",
    "            a_prev = activations[layer_idx]  # Activations from the previous layer\n",
    "            \n",
    "            # Fix gradient shape for proper weight update\n",
    "            dW = delta[node_idx] * a_prev.reshape(-1) \n",
    "            db = delta[node_idx]  # Gradient for biases\n",
    "\n",
    "            # Update weights and biases using gradient descent\n",
    "            current_layer[node_name]['weights'] -= learning_rate * dW\n",
    "            current_layer[node_name]['bias'] -= learning_rate * db\n",
    "    return network\n",
    "# Compute gradients\n",
    "y_true = np.array([[1]])  # Example target output\n",
    "learning_rate = 0.1\n",
    "gradients = backpropagation(network, activations, y_true, learning_rate)\n",
    "print(\"Mohammed Mohideen + Gradients:\", gradients)"
   ]
  },
  {
   "cell_type": "markdown",
   "id": "d6b81797-9f82-493a-a509-b1360f04071c",
   "metadata": {},
   "source": [
    "## Step 6: Update Weights"
   ]
  },
  {
   "cell_type": "code",
   "execution_count": 386,
   "id": "33990e4e-9a02-4728-9ff5-fc41e7ef42be",
   "metadata": {},
   "outputs": [
    {
     "name": "stdout",
     "output_type": "stream",
     "text": [
      "Mohammed Mohideen + Updated Network: {'layer_1': {'node_1': {'weights': array([0.37036813, 0.95014725, 0.73007363]), 'bias': 0.6007362647293519}, 'node_2': {'weights': array([0.16087726, 0.16035091, 0.06017545]), 'bias': 0.8717545295661788}, 'node_3': {'weights': array([0.60077428, 0.71030971, 0.02015486]), 'bias': 0.9715485648537218}, 'node_4': {'weights': array([0.83025208, 0.21010083, 0.18005042]), 'bias': 0.18050415065393238}}, 'layer_2': {'node_1': {'weights': array([0.30204019, 0.52200834, 0.43221673, 0.29181351]), 'bias': 0.6127552141371477}, 'node_2': {'weights': array([0.14112245, 0.29110494, 0.37121959, 0.46099774]), 'bias': 0.7915158260176399}, 'node_3': {'weights': array([0.21006952, 0.51991222, 0.6009408 , 0.05895069]), 'bias': 0.6235986539356805}}, 'output': {'node_1': {'weights': array([0.25788075, 0.15729465, 1.03662174]), 'bias': array([1.07180592])}}}\n"
     ]
    }
   ],
   "source": [
    "#def update_weights(network, activations, learning_rate):\n",
    " #       for node_idx, (node_name, node_data) in enumerate(network[layer_name].items()):\n",
    "\n",
    "# Update weights with a learning rate of 0.1\n",
    "#update_weights(network, gradients, learning_rate=0.1)\n",
    "print(\"Mohammed Mohideen + Updated Network:\", network)"
   ]
  },
  {
   "cell_type": "markdown",
   "id": "ed55add1",
   "metadata": {},
   "source": [
    "## Step 7: Visualizing Loss Changes"
   ]
  },
  {
   "cell_type": "code",
   "execution_count": 389,
   "id": "9fe355dc",
   "metadata": {},
   "outputs": [],
   "source": [
    "# Use MSE to compute the loss \n",
    "def compute_loss(y_true, y_pred):\n",
    "    loss = np.mean((y_true - y_pred) ** 2)\n",
    "    \n",
    "    return loss\n"
   ]
  },
  {
   "cell_type": "code",
   "execution_count": 391,
   "id": "f7270921",
   "metadata": {},
   "outputs": [
    {
     "data": {
      "image/png": "[encoded data removed]",
      "text/plain": [
       "<Figure size 640x480 with 1 Axes>"
      ]
     },
     "metadata": {},
     "output_type": "display_data"
    }
   ],
   "source": [
    "import matplotlib.pyplot as plt\n",
    "\n",
    "# Training Loop\n",
    "losses = []\n",
    "inputs = np.array([[0.5, 0.2, 0.1]])\n",
    "y_true = np.array([[1]])\n",
    "learning_rate = 0.1\n",
    "\n",
    "for iteration in range(100):\n",
    "    # Step 1: Perform forward propagation to compute the network's predictions\n",
    "    activations = forward_propagation(inputs, network)  # Forward pass\n",
    "    \n",
    "    # Step 2: Compute the loss (error) between the true labels and the predicted output\n",
    "    loss = compute_loss(y_true, activations[-1])  # Loss for the current iteration\n",
    "    losses.append(loss)  # Append the computed loss to the list\n",
    "    \n",
    "    # Step 3: Perform backpropagation to compute gradients and update weights\n",
    "    network = backpropagation(network, activations, y_true,learning_rate)\n",
    "\n",
    "    \n",
    "    \n",
    "    \n",
    "# Plot Loss and rerun all cells\n",
    "plt.plot(losses)\n",
    "plt.title(\"Mohammed Mohideen + Loss Before and After Weight Updates\")\n",
    "plt.xlabel(\"Iterations\")\n",
    "plt.ylabel(\"Loss\")\n",
    "plt.show()\n"
   ]
  },
  {
   "cell_type": "markdown",
   "id": "737f4b49-9f2b-4e5c-8f75-cb102fc858e0",
   "metadata": {},
   "source": [
    "### Step 8: Visualizing Gradients Changes (Graduate students)"
   ]
  },
  {
   "cell_type": "markdown",
   "id": "42a89b54-adeb-4a5d-89b2-1883ce9634a7",
   "metadata": {},
   "source": [
    "Please pick a weight and plot the gradient change\n",
    "\n",
    "You need to point which weight you pick and label it on your graph."
   ]
  },
  {
   "cell_type": "code",
   "execution_count": null,
   "id": "e59f30cb-09da-48e9-9551-d9055db6e26b",
   "metadata": {},
   "outputs": [],
   "source": [
    "# Your code"
   ]
  },
  {
   "cell_type": "code",
   "execution_count": null,
   "id": "57f0d830-3ed2-4d96-9a72-3cca41792c07",
   "metadata": {},
   "outputs": [],
   "source": []
  }
 ],
 "metadata": {
  "kernelspec": {
   "display_name": "Python [conda env:base] *",
   "language": "python",
   "name": "conda-base-py"
  },
  "language_info": {
   "codemirror_mode": {
    "name": "ipython",
    "version": 3
   },
   "file_extension": ".py",
   "mimetype": "text/x-python",
   "name": "python",
   "nbconvert_exporter": "python",
   "pygments_lexer": "ipython3",
   "version": "3.12.7"
  }
 },
 "nbformat": 4,
 "nbformat_minor": 5
}
